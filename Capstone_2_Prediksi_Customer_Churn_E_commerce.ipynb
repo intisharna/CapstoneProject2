{
  "cells": [
    {
      "cell_type": "markdown",
      "metadata": {
        "id": "ZbFC2Sl_0IDP"
      },
      "source": [
        "# Capstone Project: Prediksi Customer Churn E-commerce"
      ]
    },
    {
      "cell_type": "markdown",
      "metadata": {
        "id": "JrGOp-nu0IDQ"
      },
      "source": [
        "## Business Problem Understanding"
      ]
    },
    {
      "cell_type": "markdown",
      "metadata": {
        "id": "nZk7JjjU0IDQ"
      },
      "source": [
        "### **Context**\n",
        "Sebuah perusahaan E-commerce  ingin memahami faktor-faktor yang menyebabkan pelanggan berhenti bertransaksi (churn). Dengan mengidentifikasi pelanggan yang berpotensi churn lebih awal, perusahaan dapat secara proaktif memberikan penawaran khusus atau promo untuk mempertahankan mereka, sehingga mengurangi kerugian revenue dan meningkatkan loyalitas pelanggan.\n",
        "\n",
        "### **Problem Statement**\n",
        "Tingkat customer churn di perusahaan mengalami peningkatan sebesar 15% dalam dua kuartal terakhir. Hal ini berdampak langsung pada penurunan revenue dan peningkatan biaya akuisisi pelanggan baru. Perusahaan perlu sebuah cara yang efektif untuk mengidentifikasi pelanggan yang berisiko churn sehingga tim marketing dapat melakukan intervensi yang tepat sasaran.\n",
        "\n",
        "### **Goals**\n",
        "Berdasarkan permasalahan tersebut, tujuan dari proyek ini adalah:\n",
        "* Membangun sebuah model machine learning yang dapat memprediksi probabilitas seorang pelanggan akan melakukan churn.\n",
        "* Mencapai Recall score minimal 80% pada kelas churn, untuk memastikan model mampu menangkap sebanyak mungkin pelanggan yang benar-benar berisiko churn.\n",
        "* Memberikan rekomendasi kepada tim bisnis (Marketing & Retensi) mengenai pelanggan mana yang harus menjadi prioritas untuk kampanye retensi.\n",
        "\n",
        "### **Analytic Approach**\n",
        "Karena variabel target yang ingin diprediksi (Churn) adalah variabel kategorikal (nilai 1 untuk churn dan 0 untuk tidak churn), maka pendekatan yang akan kita gunakan adalah Klasifikasi. Kita akan membangun dan mengevaluasi beberapa model klasifikasi untuk menemukan yang paling sesuai dengan tujuan bisnis."
      ]
    },
    {
      "cell_type": "markdown",
      "metadata": {
        "id": "obb6k-jM0IDQ"
      },
      "source": [
        "## Data Understanding & EDA (Exploratory Data Analysis)"
      ]
    },
    {
      "cell_type": "markdown",
      "metadata": {
        "id": "XyjEYp7u0IDQ"
      },
      "source": [
        "### Import Libraries\n",
        "Langkah pertama adalah mengimpor semua library yang kita butuhkan untuk analisis data, visualisasi, preprocessing, dan modeling."
      ]
    },
    {
      "cell_type": "code",
      "execution_count": 16,
      "metadata": {
        "id": "8xKUIGNi0IDQ"
      },
      "outputs": [],
      "source": [
        "import pandas as pd\n",
        "import numpy as np\n",
        "import matplotlib.pyplot as plt\n",
        "import seaborn as sns\n",
        "\n",
        "from sklearn.model_selection import train_test_split, GridSearchCV\n",
        "from sklearn.preprocessing import StandardScaler\n",
        "from sklearn.linear_model import LogisticRegression\n",
        "from sklearn.ensemble import RandomForestClassifier\n",
        "from xgboost import XGBClassifier\n",
        "from sklearn.metrics import classification_report, confusion_matrix, accuracy_score, recall_score\n",
        "\n",
        "import warnings\n",
        "warnings.filterwarnings('ignore')"
      ]
    },
    {
      "cell_type": "markdown",
      "metadata": {
        "id": "hvxzJKWD0IDQ"
      },
      "source": [
        "### Loading Data\n",
        "Kita akan memuat dataset customer churn ke dalam sebuah DataFrame pandas. Setelah itu, kita akan melihat 5 baris pertama data untuk mendapatkan gambaran awal mengenai struktur dan isi dari dataset."
      ]
    },
    {
      "cell_type": "code",
      "execution_count": 17,
      "metadata": {
        "colab": {
          "base_uri": "https://localhost:8080/",
          "height": 226
        },
        "id": "dib_Fwh80IDQ",
        "outputId": "ac45b82e-854b-4a61-a8d7-8bb1ea481317"
      },
      "outputs": [
        {
          "output_type": "execute_result",
          "data": {
            "text/plain": [
              "   Tenure  WarehouseToHome  NumberOfDeviceRegistered    PreferedOrderCat  \\\n",
              "0    15.0             29.0                         4  Laptop & Accessory   \n",
              "1     7.0             25.0                         4              Mobile   \n",
              "2    27.0             13.0                         3  Laptop & Accessory   \n",
              "3    20.0             25.0                         4             Fashion   \n",
              "4    30.0             15.0                         4              Others   \n",
              "\n",
              "   SatisfactionScore MaritalStatus  NumberOfAddress  Complain  \\\n",
              "0                  3        Single                2         0   \n",
              "1                  1       Married                2         0   \n",
              "2                  1       Married                5         0   \n",
              "3                  3      Divorced                7         0   \n",
              "4                  4        Single                8         0   \n",
              "\n",
              "   DaySinceLastOrder  CashbackAmount  Churn  \n",
              "0                7.0          143.32      0  \n",
              "1                7.0          129.29      0  \n",
              "2                7.0          168.54      0  \n",
              "3                NaN          230.27      0  \n",
              "4                8.0          322.17      0  "
            ],
            "text/html": [
              "\n",
              "  <div id=\"df-764e4d7b-9b61-4818-9ad1-a75c034f52ab\" class=\"colab-df-container\">\n",
              "    <div>\n",
              "<style scoped>\n",
              "    .dataframe tbody tr th:only-of-type {\n",
              "        vertical-align: middle;\n",
              "    }\n",
              "\n",
              "    .dataframe tbody tr th {\n",
              "        vertical-align: top;\n",
              "    }\n",
              "\n",
              "    .dataframe thead th {\n",
              "        text-align: right;\n",
              "    }\n",
              "</style>\n",
              "<table border=\"1\" class=\"dataframe\">\n",
              "  <thead>\n",
              "    <tr style=\"text-align: right;\">\n",
              "      <th></th>\n",
              "      <th>Tenure</th>\n",
              "      <th>WarehouseToHome</th>\n",
              "      <th>NumberOfDeviceRegistered</th>\n",
              "      <th>PreferedOrderCat</th>\n",
              "      <th>SatisfactionScore</th>\n",
              "      <th>MaritalStatus</th>\n",
              "      <th>NumberOfAddress</th>\n",
              "      <th>Complain</th>\n",
              "      <th>DaySinceLastOrder</th>\n",
              "      <th>CashbackAmount</th>\n",
              "      <th>Churn</th>\n",
              "    </tr>\n",
              "  </thead>\n",
              "  <tbody>\n",
              "    <tr>\n",
              "      <th>0</th>\n",
              "      <td>15.0</td>\n",
              "      <td>29.0</td>\n",
              "      <td>4</td>\n",
              "      <td>Laptop &amp; Accessory</td>\n",
              "      <td>3</td>\n",
              "      <td>Single</td>\n",
              "      <td>2</td>\n",
              "      <td>0</td>\n",
              "      <td>7.0</td>\n",
              "      <td>143.32</td>\n",
              "      <td>0</td>\n",
              "    </tr>\n",
              "    <tr>\n",
              "      <th>1</th>\n",
              "      <td>7.0</td>\n",
              "      <td>25.0</td>\n",
              "      <td>4</td>\n",
              "      <td>Mobile</td>\n",
              "      <td>1</td>\n",
              "      <td>Married</td>\n",
              "      <td>2</td>\n",
              "      <td>0</td>\n",
              "      <td>7.0</td>\n",
              "      <td>129.29</td>\n",
              "      <td>0</td>\n",
              "    </tr>\n",
              "    <tr>\n",
              "      <th>2</th>\n",
              "      <td>27.0</td>\n",
              "      <td>13.0</td>\n",
              "      <td>3</td>\n",
              "      <td>Laptop &amp; Accessory</td>\n",
              "      <td>1</td>\n",
              "      <td>Married</td>\n",
              "      <td>5</td>\n",
              "      <td>0</td>\n",
              "      <td>7.0</td>\n",
              "      <td>168.54</td>\n",
              "      <td>0</td>\n",
              "    </tr>\n",
              "    <tr>\n",
              "      <th>3</th>\n",
              "      <td>20.0</td>\n",
              "      <td>25.0</td>\n",
              "      <td>4</td>\n",
              "      <td>Fashion</td>\n",
              "      <td>3</td>\n",
              "      <td>Divorced</td>\n",
              "      <td>7</td>\n",
              "      <td>0</td>\n",
              "      <td>NaN</td>\n",
              "      <td>230.27</td>\n",
              "      <td>0</td>\n",
              "    </tr>\n",
              "    <tr>\n",
              "      <th>4</th>\n",
              "      <td>30.0</td>\n",
              "      <td>15.0</td>\n",
              "      <td>4</td>\n",
              "      <td>Others</td>\n",
              "      <td>4</td>\n",
              "      <td>Single</td>\n",
              "      <td>8</td>\n",
              "      <td>0</td>\n",
              "      <td>8.0</td>\n",
              "      <td>322.17</td>\n",
              "      <td>0</td>\n",
              "    </tr>\n",
              "  </tbody>\n",
              "</table>\n",
              "</div>\n",
              "    <div class=\"colab-df-buttons\">\n",
              "\n",
              "  <div class=\"colab-df-container\">\n",
              "    <button class=\"colab-df-convert\" onclick=\"convertToInteractive('df-764e4d7b-9b61-4818-9ad1-a75c034f52ab')\"\n",
              "            title=\"Convert this dataframe to an interactive table.\"\n",
              "            style=\"display:none;\">\n",
              "\n",
              "  <svg xmlns=\"http://www.w3.org/2000/svg\" height=\"24px\" viewBox=\"0 -960 960 960\">\n",
              "    <path d=\"M120-120v-720h720v720H120Zm60-500h600v-160H180v160Zm220 220h160v-160H400v160Zm0 220h160v-160H400v160ZM180-400h160v-160H180v160Zm440 0h160v-160H620v160ZM180-180h160v-160H180v160Zm440 0h160v-160H620v160Z\"/>\n",
              "  </svg>\n",
              "    </button>\n",
              "\n",
              "  <style>\n",
              "    .colab-df-container {\n",
              "      display:flex;\n",
              "      gap: 12px;\n",
              "    }\n",
              "\n",
              "    .colab-df-convert {\n",
              "      background-color: #E8F0FE;\n",
              "      border: none;\n",
              "      border-radius: 50%;\n",
              "      cursor: pointer;\n",
              "      display: none;\n",
              "      fill: #1967D2;\n",
              "      height: 32px;\n",
              "      padding: 0 0 0 0;\n",
              "      width: 32px;\n",
              "    }\n",
              "\n",
              "    .colab-df-convert:hover {\n",
              "      background-color: #E2EBFA;\n",
              "      box-shadow: 0px 1px 2px rgba(60, 64, 67, 0.3), 0px 1px 3px 1px rgba(60, 64, 67, 0.15);\n",
              "      fill: #174EA6;\n",
              "    }\n",
              "\n",
              "    .colab-df-buttons div {\n",
              "      margin-bottom: 4px;\n",
              "    }\n",
              "\n",
              "    [theme=dark] .colab-df-convert {\n",
              "      background-color: #3B4455;\n",
              "      fill: #D2E3FC;\n",
              "    }\n",
              "\n",
              "    [theme=dark] .colab-df-convert:hover {\n",
              "      background-color: #434B5C;\n",
              "      box-shadow: 0px 1px 3px 1px rgba(0, 0, 0, 0.15);\n",
              "      filter: drop-shadow(0px 1px 2px rgba(0, 0, 0, 0.3));\n",
              "      fill: #FFFFFF;\n",
              "    }\n",
              "  </style>\n",
              "\n",
              "    <script>\n",
              "      const buttonEl =\n",
              "        document.querySelector('#df-764e4d7b-9b61-4818-9ad1-a75c034f52ab button.colab-df-convert');\n",
              "      buttonEl.style.display =\n",
              "        google.colab.kernel.accessAllowed ? 'block' : 'none';\n",
              "\n",
              "      async function convertToInteractive(key) {\n",
              "        const element = document.querySelector('#df-764e4d7b-9b61-4818-9ad1-a75c034f52ab');\n",
              "        const dataTable =\n",
              "          await google.colab.kernel.invokeFunction('convertToInteractive',\n",
              "                                                    [key], {});\n",
              "        if (!dataTable) return;\n",
              "\n",
              "        const docLinkHtml = 'Like what you see? Visit the ' +\n",
              "          '<a target=\"_blank\" href=https://colab.research.google.com/notebooks/data_table.ipynb>data table notebook</a>'\n",
              "          + ' to learn more about interactive tables.';\n",
              "        element.innerHTML = '';\n",
              "        dataTable['output_type'] = 'display_data';\n",
              "        await google.colab.output.renderOutput(dataTable, element);\n",
              "        const docLink = document.createElement('div');\n",
              "        docLink.innerHTML = docLinkHtml;\n",
              "        element.appendChild(docLink);\n",
              "      }\n",
              "    </script>\n",
              "  </div>\n",
              "\n",
              "\n",
              "    <div id=\"df-22b4df15-3b3b-487b-81a2-c1badee199b7\">\n",
              "      <button class=\"colab-df-quickchart\" onclick=\"quickchart('df-22b4df15-3b3b-487b-81a2-c1badee199b7')\"\n",
              "                title=\"Suggest charts\"\n",
              "                style=\"display:none;\">\n",
              "\n",
              "<svg xmlns=\"http://www.w3.org/2000/svg\" height=\"24px\"viewBox=\"0 0 24 24\"\n",
              "     width=\"24px\">\n",
              "    <g>\n",
              "        <path d=\"M19 3H5c-1.1 0-2 .9-2 2v14c0 1.1.9 2 2 2h14c1.1 0 2-.9 2-2V5c0-1.1-.9-2-2-2zM9 17H7v-7h2v7zm4 0h-2V7h2v10zm4 0h-2v-4h2v4z\"/>\n",
              "    </g>\n",
              "</svg>\n",
              "      </button>\n",
              "\n",
              "<style>\n",
              "  .colab-df-quickchart {\n",
              "      --bg-color: #E8F0FE;\n",
              "      --fill-color: #1967D2;\n",
              "      --hover-bg-color: #E2EBFA;\n",
              "      --hover-fill-color: #174EA6;\n",
              "      --disabled-fill-color: #AAA;\n",
              "      --disabled-bg-color: #DDD;\n",
              "  }\n",
              "\n",
              "  [theme=dark] .colab-df-quickchart {\n",
              "      --bg-color: #3B4455;\n",
              "      --fill-color: #D2E3FC;\n",
              "      --hover-bg-color: #434B5C;\n",
              "      --hover-fill-color: #FFFFFF;\n",
              "      --disabled-bg-color: #3B4455;\n",
              "      --disabled-fill-color: #666;\n",
              "  }\n",
              "\n",
              "  .colab-df-quickchart {\n",
              "    background-color: var(--bg-color);\n",
              "    border: none;\n",
              "    border-radius: 50%;\n",
              "    cursor: pointer;\n",
              "    display: none;\n",
              "    fill: var(--fill-color);\n",
              "    height: 32px;\n",
              "    padding: 0;\n",
              "    width: 32px;\n",
              "  }\n",
              "\n",
              "  .colab-df-quickchart:hover {\n",
              "    background-color: var(--hover-bg-color);\n",
              "    box-shadow: 0 1px 2px rgba(60, 64, 67, 0.3), 0 1px 3px 1px rgba(60, 64, 67, 0.15);\n",
              "    fill: var(--button-hover-fill-color);\n",
              "  }\n",
              "\n",
              "  .colab-df-quickchart-complete:disabled,\n",
              "  .colab-df-quickchart-complete:disabled:hover {\n",
              "    background-color: var(--disabled-bg-color);\n",
              "    fill: var(--disabled-fill-color);\n",
              "    box-shadow: none;\n",
              "  }\n",
              "\n",
              "  .colab-df-spinner {\n",
              "    border: 2px solid var(--fill-color);\n",
              "    border-color: transparent;\n",
              "    border-bottom-color: var(--fill-color);\n",
              "    animation:\n",
              "      spin 1s steps(1) infinite;\n",
              "  }\n",
              "\n",
              "  @keyframes spin {\n",
              "    0% {\n",
              "      border-color: transparent;\n",
              "      border-bottom-color: var(--fill-color);\n",
              "      border-left-color: var(--fill-color);\n",
              "    }\n",
              "    20% {\n",
              "      border-color: transparent;\n",
              "      border-left-color: var(--fill-color);\n",
              "      border-top-color: var(--fill-color);\n",
              "    }\n",
              "    30% {\n",
              "      border-color: transparent;\n",
              "      border-left-color: var(--fill-color);\n",
              "      border-top-color: var(--fill-color);\n",
              "      border-right-color: var(--fill-color);\n",
              "    }\n",
              "    40% {\n",
              "      border-color: transparent;\n",
              "      border-right-color: var(--fill-color);\n",
              "      border-top-color: var(--fill-color);\n",
              "    }\n",
              "    60% {\n",
              "      border-color: transparent;\n",
              "      border-right-color: var(--fill-color);\n",
              "    }\n",
              "    80% {\n",
              "      border-color: transparent;\n",
              "      border-right-color: var(--fill-color);\n",
              "      border-bottom-color: var(--fill-color);\n",
              "    }\n",
              "    90% {\n",
              "      border-color: transparent;\n",
              "      border-bottom-color: var(--fill-color);\n",
              "    }\n",
              "  }\n",
              "</style>\n",
              "\n",
              "      <script>\n",
              "        async function quickchart(key) {\n",
              "          const quickchartButtonEl =\n",
              "            document.querySelector('#' + key + ' button');\n",
              "          quickchartButtonEl.disabled = true;  // To prevent multiple clicks.\n",
              "          quickchartButtonEl.classList.add('colab-df-spinner');\n",
              "          try {\n",
              "            const charts = await google.colab.kernel.invokeFunction(\n",
              "                'suggestCharts', [key], {});\n",
              "          } catch (error) {\n",
              "            console.error('Error during call to suggestCharts:', error);\n",
              "          }\n",
              "          quickchartButtonEl.classList.remove('colab-df-spinner');\n",
              "          quickchartButtonEl.classList.add('colab-df-quickchart-complete');\n",
              "        }\n",
              "        (() => {\n",
              "          let quickchartButtonEl =\n",
              "            document.querySelector('#df-22b4df15-3b3b-487b-81a2-c1badee199b7 button');\n",
              "          quickchartButtonEl.style.display =\n",
              "            google.colab.kernel.accessAllowed ? 'block' : 'none';\n",
              "        })();\n",
              "      </script>\n",
              "    </div>\n",
              "\n",
              "    </div>\n",
              "  </div>\n"
            ],
            "application/vnd.google.colaboratory.intrinsic+json": {
              "type": "dataframe",
              "variable_name": "df",
              "summary": "{\n  \"name\": \"df\",\n  \"rows\": 3941,\n  \"fields\": [\n    {\n      \"column\": \"Tenure\",\n      \"properties\": {\n        \"dtype\": \"number\",\n        \"std\": 8.498864178879964,\n        \"min\": 0.0,\n        \"max\": 61.0,\n        \"num_unique_values\": 36,\n        \"samples\": [\n          50.0,\n          0.0,\n          21.0\n        ],\n        \"semantic_type\": \"\",\n        \"description\": \"\"\n      }\n    },\n    {\n      \"column\": \"WarehouseToHome\",\n      \"properties\": {\n        \"dtype\": \"number\",\n        \"std\": 8.452300666668343,\n        \"min\": 5.0,\n        \"max\": 127.0,\n        \"num_unique_values\": 33,\n        \"samples\": [\n          36.0,\n          18.0,\n          30.0\n        ],\n        \"semantic_type\": \"\",\n        \"description\": \"\"\n      }\n    },\n    {\n      \"column\": \"NumberOfDeviceRegistered\",\n      \"properties\": {\n        \"dtype\": \"number\",\n        \"std\": 1,\n        \"min\": 1,\n        \"max\": 6,\n        \"num_unique_values\": 6,\n        \"samples\": [\n          4,\n          3,\n          1\n        ],\n        \"semantic_type\": \"\",\n        \"description\": \"\"\n      }\n    },\n    {\n      \"column\": \"PreferedOrderCat\",\n      \"properties\": {\n        \"dtype\": \"category\",\n        \"num_unique_values\": 6,\n        \"samples\": [\n          \"Laptop & Accessory\",\n          \"Mobile\",\n          \"Grocery\"\n        ],\n        \"semantic_type\": \"\",\n        \"description\": \"\"\n      }\n    },\n    {\n      \"column\": \"SatisfactionScore\",\n      \"properties\": {\n        \"dtype\": \"number\",\n        \"std\": 1,\n        \"min\": 1,\n        \"max\": 5,\n        \"num_unique_values\": 5,\n        \"samples\": [\n          1,\n          5,\n          4\n        ],\n        \"semantic_type\": \"\",\n        \"description\": \"\"\n      }\n    },\n    {\n      \"column\": \"MaritalStatus\",\n      \"properties\": {\n        \"dtype\": \"category\",\n        \"num_unique_values\": 3,\n        \"samples\": [\n          \"Single\",\n          \"Married\",\n          \"Divorced\"\n        ],\n        \"semantic_type\": \"\",\n        \"description\": \"\"\n      }\n    },\n    {\n      \"column\": \"NumberOfAddress\",\n      \"properties\": {\n        \"dtype\": \"number\",\n        \"std\": 2,\n        \"min\": 1,\n        \"max\": 22,\n        \"num_unique_values\": 14,\n        \"samples\": [\n          11,\n          19,\n          2\n        ],\n        \"semantic_type\": \"\",\n        \"description\": \"\"\n      }\n    },\n    {\n      \"column\": \"Complain\",\n      \"properties\": {\n        \"dtype\": \"number\",\n        \"std\": 0,\n        \"min\": 0,\n        \"max\": 1,\n        \"num_unique_values\": 2,\n        \"samples\": [\n          1,\n          0\n        ],\n        \"semantic_type\": \"\",\n        \"description\": \"\"\n      }\n    },\n    {\n      \"column\": \"DaySinceLastOrder\",\n      \"properties\": {\n        \"dtype\": \"number\",\n        \"std\": 3.6676478478130115,\n        \"min\": 0.0,\n        \"max\": 46.0,\n        \"num_unique_values\": 22,\n        \"samples\": [\n          7.0,\n          5.0\n        ],\n        \"semantic_type\": \"\",\n        \"description\": \"\"\n      }\n    },\n    {\n      \"column\": \"CashbackAmount\",\n      \"properties\": {\n        \"dtype\": \"number\",\n        \"std\": 48.79178424292386,\n        \"min\": 0.0,\n        \"max\": 324.99,\n        \"num_unique_values\": 2335,\n        \"samples\": [\n          159.24,\n          114.2\n        ],\n        \"semantic_type\": \"\",\n        \"description\": \"\"\n      }\n    },\n    {\n      \"column\": \"Churn\",\n      \"properties\": {\n        \"dtype\": \"number\",\n        \"std\": 0,\n        \"min\": 0,\n        \"max\": 1,\n        \"num_unique_values\": 2,\n        \"samples\": [\n          1,\n          0\n        ],\n        \"semantic_type\": \"\",\n        \"description\": \"\"\n      }\n    }\n  ]\n}"
            }
          },
          "metadata": {},
          "execution_count": 17
        }
      ],
      "source": [
        "df = pd.read_csv('/content/data_ecommerce_customer_churn.csv')\n",
        "df.head()"
      ]
    },
    {
      "cell_type": "markdown",
      "metadata": {
        "id": "DktaiGU70IDQ"
      },
      "source": [
        "Output di atas menampilkan 5 baris pertama dari dataset. Kita bisa melihat nama-nama kolom seperti Tenure, WarehouseToHome, Churn, dan lainnya, beserta contoh nilainya. Ini membantu kita memverifikasi bahwa data telah berhasil dimuat dengan benar."
      ]
    },
    {
      "cell_type": "markdown",
      "metadata": {
        "id": "B66jWgwI0IDQ"
      },
      "source": [
        "### Informasi Umum Dataset\n",
        "Dengan menggunakan df.info(), kita bisa mendapatkan ringkasan singkat tentang DataFrame, termasuk jumlah baris dan kolom, tipe data setiap kolom, serta jumlah nilai non-null. Ini penting untuk mendeteksi missing values dan tipe data yang tidak sesuai."
      ]
    },
    {
      "cell_type": "code",
      "execution_count": 18,
      "metadata": {
        "colab": {
          "base_uri": "https://localhost:8080/"
        },
        "id": "ADdeqyoi0IDR",
        "outputId": "e06d231d-ae0e-4b4a-c428-79f6d597b606"
      },
      "outputs": [
        {
          "output_type": "stream",
          "name": "stdout",
          "text": [
            "<class 'pandas.core.frame.DataFrame'>\n",
            "RangeIndex: 3941 entries, 0 to 3940\n",
            "Data columns (total 11 columns):\n",
            " #   Column                    Non-Null Count  Dtype  \n",
            "---  ------                    --------------  -----  \n",
            " 0   Tenure                    3747 non-null   float64\n",
            " 1   WarehouseToHome           3772 non-null   float64\n",
            " 2   NumberOfDeviceRegistered  3941 non-null   int64  \n",
            " 3   PreferedOrderCat          3941 non-null   object \n",
            " 4   SatisfactionScore         3941 non-null   int64  \n",
            " 5   MaritalStatus             3941 non-null   object \n",
            " 6   NumberOfAddress           3941 non-null   int64  \n",
            " 7   Complain                  3941 non-null   int64  \n",
            " 8   DaySinceLastOrder         3728 non-null   float64\n",
            " 9   CashbackAmount            3941 non-null   float64\n",
            " 10  Churn                     3941 non-null   int64  \n",
            "dtypes: float64(4), int64(5), object(2)\n",
            "memory usage: 338.8+ KB\n"
          ]
        }
      ],
      "source": [
        "df.info()"
      ]
    },
    {
      "cell_type": "markdown",
      "metadata": {
        "id": "3P4eVAeJ0IDR"
      },
      "source": [
        "Output df.info() menunjukkan bahwa dataset kita memiliki 3941 baris dan 11 kolom. Kita dapat melihat bahwa beberapa kolom seperti Tenure memiliki tipe data float64, sementara PreferedOrderCat memiliki tipe object (yang menandakan data teks/kategorikal). Selain itu, terlihat bahwa beberapa kolom memiliki jumlah nilai non-null yang kurang dari 3941, yang mengindikasikan adanya missing values."
      ]
    },
    {
      "cell_type": "markdown",
      "metadata": {
        "id": "mlgSWyfG0IDR"
      },
      "source": [
        "### Pengecekan Missing Values\n",
        "Langkah ini bertujuan untuk menghitung jumlah data kosong (missing values) pada setiap kolom."
      ]
    },
    {
      "cell_type": "code",
      "execution_count": 19,
      "metadata": {
        "colab": {
          "base_uri": "https://localhost:8080/",
          "height": 429
        },
        "id": "_LC9gzQI0IDR",
        "outputId": "f03ea544-bc30-471a-c6ad-2f468b19126e"
      },
      "outputs": [
        {
          "output_type": "execute_result",
          "data": {
            "text/plain": [
              "Tenure                      194\n",
              "WarehouseToHome             169\n",
              "NumberOfDeviceRegistered      0\n",
              "PreferedOrderCat              0\n",
              "SatisfactionScore             0\n",
              "MaritalStatus                 0\n",
              "NumberOfAddress               0\n",
              "Complain                      0\n",
              "DaySinceLastOrder           213\n",
              "CashbackAmount                0\n",
              "Churn                         0\n",
              "dtype: int64"
            ],
            "text/html": [
              "<div>\n",
              "<style scoped>\n",
              "    .dataframe tbody tr th:only-of-type {\n",
              "        vertical-align: middle;\n",
              "    }\n",
              "\n",
              "    .dataframe tbody tr th {\n",
              "        vertical-align: top;\n",
              "    }\n",
              "\n",
              "    .dataframe thead th {\n",
              "        text-align: right;\n",
              "    }\n",
              "</style>\n",
              "<table border=\"1\" class=\"dataframe\">\n",
              "  <thead>\n",
              "    <tr style=\"text-align: right;\">\n",
              "      <th></th>\n",
              "      <th>0</th>\n",
              "    </tr>\n",
              "  </thead>\n",
              "  <tbody>\n",
              "    <tr>\n",
              "      <th>Tenure</th>\n",
              "      <td>194</td>\n",
              "    </tr>\n",
              "    <tr>\n",
              "      <th>WarehouseToHome</th>\n",
              "      <td>169</td>\n",
              "    </tr>\n",
              "    <tr>\n",
              "      <th>NumberOfDeviceRegistered</th>\n",
              "      <td>0</td>\n",
              "    </tr>\n",
              "    <tr>\n",
              "      <th>PreferedOrderCat</th>\n",
              "      <td>0</td>\n",
              "    </tr>\n",
              "    <tr>\n",
              "      <th>SatisfactionScore</th>\n",
              "      <td>0</td>\n",
              "    </tr>\n",
              "    <tr>\n",
              "      <th>MaritalStatus</th>\n",
              "      <td>0</td>\n",
              "    </tr>\n",
              "    <tr>\n",
              "      <th>NumberOfAddress</th>\n",
              "      <td>0</td>\n",
              "    </tr>\n",
              "    <tr>\n",
              "      <th>Complain</th>\n",
              "      <td>0</td>\n",
              "    </tr>\n",
              "    <tr>\n",
              "      <th>DaySinceLastOrder</th>\n",
              "      <td>213</td>\n",
              "    </tr>\n",
              "    <tr>\n",
              "      <th>CashbackAmount</th>\n",
              "      <td>0</td>\n",
              "    </tr>\n",
              "    <tr>\n",
              "      <th>Churn</th>\n",
              "      <td>0</td>\n",
              "    </tr>\n",
              "  </tbody>\n",
              "</table>\n",
              "</div><br><label><b>dtype:</b> int64</label>"
            ]
          },
          "metadata": {},
          "execution_count": 19
        }
      ],
      "source": [
        "df.isnull().sum()"
      ]
    },
    {
      "cell_type": "markdown",
      "metadata": {
        "id": "j-CmllQ50IDR"
      },
      "source": [
        "Hasil di atas mengonfirmasi adanya missing values pada kolom Tenure (194 nilai), WarehouseToHome (169 nilai), dan DaySinceLastOrder (213 nilai). Kolom-kolom ini perlu ditangani sebelum melanjutkan ke tahap modeling."
      ]
    },
    {
      "cell_type": "markdown",
      "metadata": {
        "id": "X_s-jslo0IDR"
      },
      "source": [
        "### Ringkasan Statistik\n",
        "Menggunakan df.describe(), kita dapat melihat ringkasan statistik deskriptif untuk semua kolom numerik, seperti rata-rata (mean), standar deviasi (std), nilai minimum (min), maksimum (max), dan nilai kuartil. Ini membantu kita memahami distribusi dan skala setiap fitur."
      ]
    },
    {
      "cell_type": "code",
      "execution_count": 20,
      "metadata": {
        "colab": {
          "base_uri": "https://localhost:8080/",
          "height": 320
        },
        "id": "1oO-O7Nj0IDR",
        "outputId": "9bb88010-614e-4919-8a74-b3c4a37e5b08"
      },
      "outputs": [
        {
          "output_type": "execute_result",
          "data": {
            "text/plain": [
              "            Tenure  WarehouseToHome  NumberOfDeviceRegistered  \\\n",
              "count  3747.000000      3772.000000               3941.000000   \n",
              "mean     10.081398        15.650583                  3.679269   \n",
              "std       8.498864         8.452301                  1.013938   \n",
              "min       0.000000         5.000000                  1.000000   \n",
              "25%       2.000000         9.000000                  3.000000   \n",
              "50%       9.000000        14.000000                  4.000000   \n",
              "75%      16.000000        21.000000                  4.000000   \n",
              "max      61.000000       127.000000                  6.000000   \n",
              "\n",
              "       SatisfactionScore  NumberOfAddress     Complain  DaySinceLastOrder  \\\n",
              "count        3941.000000      3941.000000  3941.000000        3728.000000   \n",
              "mean            3.088302         4.237757     0.282416           4.531652   \n",
              "std             1.381832         2.626699     0.450232           3.667648   \n",
              "min             1.000000         1.000000     0.000000           0.000000   \n",
              "25%             2.000000         2.000000     0.000000           2.000000   \n",
              "50%             3.000000         3.000000     0.000000           3.000000   \n",
              "75%             4.000000         6.000000     1.000000           7.000000   \n",
              "max             5.000000        22.000000     1.000000          46.000000   \n",
              "\n",
              "       CashbackAmount        Churn  \n",
              "count     3941.000000  3941.000000  \n",
              "mean       176.707419     0.171023  \n",
              "std         48.791784     0.376576  \n",
              "min          0.000000     0.000000  \n",
              "25%        145.700000     0.000000  \n",
              "50%        163.340000     0.000000  \n",
              "75%        195.250000     0.000000  \n",
              "max        324.990000     1.000000  "
            ],
            "text/html": [
              "\n",
              "  <div id=\"df-e9130546-f773-4348-9df4-2965d3179d3a\" class=\"colab-df-container\">\n",
              "    <div>\n",
              "<style scoped>\n",
              "    .dataframe tbody tr th:only-of-type {\n",
              "        vertical-align: middle;\n",
              "    }\n",
              "\n",
              "    .dataframe tbody tr th {\n",
              "        vertical-align: top;\n",
              "    }\n",
              "\n",
              "    .dataframe thead th {\n",
              "        text-align: right;\n",
              "    }\n",
              "</style>\n",
              "<table border=\"1\" class=\"dataframe\">\n",
              "  <thead>\n",
              "    <tr style=\"text-align: right;\">\n",
              "      <th></th>\n",
              "      <th>Tenure</th>\n",
              "      <th>WarehouseToHome</th>\n",
              "      <th>NumberOfDeviceRegistered</th>\n",
              "      <th>SatisfactionScore</th>\n",
              "      <th>NumberOfAddress</th>\n",
              "      <th>Complain</th>\n",
              "      <th>DaySinceLastOrder</th>\n",
              "      <th>CashbackAmount</th>\n",
              "      <th>Churn</th>\n",
              "    </tr>\n",
              "  </thead>\n",
              "  <tbody>\n",
              "    <tr>\n",
              "      <th>count</th>\n",
              "      <td>3747.000000</td>\n",
              "      <td>3772.000000</td>\n",
              "      <td>3941.000000</td>\n",
              "      <td>3941.000000</td>\n",
              "      <td>3941.000000</td>\n",
              "      <td>3941.000000</td>\n",
              "      <td>3728.000000</td>\n",
              "      <td>3941.000000</td>\n",
              "      <td>3941.000000</td>\n",
              "    </tr>\n",
              "    <tr>\n",
              "      <th>mean</th>\n",
              "      <td>10.081398</td>\n",
              "      <td>15.650583</td>\n",
              "      <td>3.679269</td>\n",
              "      <td>3.088302</td>\n",
              "      <td>4.237757</td>\n",
              "      <td>0.282416</td>\n",
              "      <td>4.531652</td>\n",
              "      <td>176.707419</td>\n",
              "      <td>0.171023</td>\n",
              "    </tr>\n",
              "    <tr>\n",
              "      <th>std</th>\n",
              "      <td>8.498864</td>\n",
              "      <td>8.452301</td>\n",
              "      <td>1.013938</td>\n",
              "      <td>1.381832</td>\n",
              "      <td>2.626699</td>\n",
              "      <td>0.450232</td>\n",
              "      <td>3.667648</td>\n",
              "      <td>48.791784</td>\n",
              "      <td>0.376576</td>\n",
              "    </tr>\n",
              "    <tr>\n",
              "      <th>min</th>\n",
              "      <td>0.000000</td>\n",
              "      <td>5.000000</td>\n",
              "      <td>1.000000</td>\n",
              "      <td>1.000000</td>\n",
              "      <td>1.000000</td>\n",
              "      <td>0.000000</td>\n",
              "      <td>0.000000</td>\n",
              "      <td>0.000000</td>\n",
              "      <td>0.000000</td>\n",
              "    </tr>\n",
              "    <tr>\n",
              "      <th>25%</th>\n",
              "      <td>2.000000</td>\n",
              "      <td>9.000000</td>\n",
              "      <td>3.000000</td>\n",
              "      <td>2.000000</td>\n",
              "      <td>2.000000</td>\n",
              "      <td>0.000000</td>\n",
              "      <td>2.000000</td>\n",
              "      <td>145.700000</td>\n",
              "      <td>0.000000</td>\n",
              "    </tr>\n",
              "    <tr>\n",
              "      <th>50%</th>\n",
              "      <td>9.000000</td>\n",
              "      <td>14.000000</td>\n",
              "      <td>4.000000</td>\n",
              "      <td>3.000000</td>\n",
              "      <td>3.000000</td>\n",
              "      <td>0.000000</td>\n",
              "      <td>3.000000</td>\n",
              "      <td>163.340000</td>\n",
              "      <td>0.000000</td>\n",
              "    </tr>\n",
              "    <tr>\n",
              "      <th>75%</th>\n",
              "      <td>16.000000</td>\n",
              "      <td>21.000000</td>\n",
              "      <td>4.000000</td>\n",
              "      <td>4.000000</td>\n",
              "      <td>6.000000</td>\n",
              "      <td>1.000000</td>\n",
              "      <td>7.000000</td>\n",
              "      <td>195.250000</td>\n",
              "      <td>0.000000</td>\n",
              "    </tr>\n",
              "    <tr>\n",
              "      <th>max</th>\n",
              "      <td>61.000000</td>\n",
              "      <td>127.000000</td>\n",
              "      <td>6.000000</td>\n",
              "      <td>5.000000</td>\n",
              "      <td>22.000000</td>\n",
              "      <td>1.000000</td>\n",
              "      <td>46.000000</td>\n",
              "      <td>324.990000</td>\n",
              "      <td>1.000000</td>\n",
              "    </tr>\n",
              "  </tbody>\n",
              "</table>\n",
              "</div>\n",
              "    <div class=\"colab-df-buttons\">\n",
              "\n",
              "  <div class=\"colab-df-container\">\n",
              "    <button class=\"colab-df-convert\" onclick=\"convertToInteractive('df-e9130546-f773-4348-9df4-2965d3179d3a')\"\n",
              "            title=\"Convert this dataframe to an interactive table.\"\n",
              "            style=\"display:none;\">\n",
              "\n",
              "  <svg xmlns=\"http://www.w3.org/2000/svg\" height=\"24px\" viewBox=\"0 -960 960 960\">\n",
              "    <path d=\"M120-120v-720h720v720H120Zm60-500h600v-160H180v160Zm220 220h160v-160H400v160Zm0 220h160v-160H400v160ZM180-400h160v-160H180v160Zm440 0h160v-160H620v160ZM180-180h160v-160H180v160Zm440 0h160v-160H620v160Z\"/>\n",
              "  </svg>\n",
              "    </button>\n",
              "\n",
              "  <style>\n",
              "    .colab-df-container {\n",
              "      display:flex;\n",
              "      gap: 12px;\n",
              "    }\n",
              "\n",
              "    .colab-df-convert {\n",
              "      background-color: #E8F0FE;\n",
              "      border: none;\n",
              "      border-radius: 50%;\n",
              "      cursor: pointer;\n",
              "      display: none;\n",
              "      fill: #1967D2;\n",
              "      height: 32px;\n",
              "      padding: 0 0 0 0;\n",
              "      width: 32px;\n",
              "    }\n",
              "\n",
              "    .colab-df-convert:hover {\n",
              "      background-color: #E2EBFA;\n",
              "      box-shadow: 0px 1px 2px rgba(60, 64, 67, 0.3), 0px 1px 3px 1px rgba(60, 64, 67, 0.15);\n",
              "      fill: #174EA6;\n",
              "    }\n",
              "\n",
              "    .colab-df-buttons div {\n",
              "      margin-bottom: 4px;\n",
              "    }\n",
              "\n",
              "    [theme=dark] .colab-df-convert {\n",
              "      background-color: #3B4455;\n",
              "      fill: #D2E3FC;\n",
              "    }\n",
              "\n",
              "    [theme=dark] .colab-df-convert:hover {\n",
              "      background-color: #434B5C;\n",
              "      box-shadow: 0px 1px 3px 1px rgba(0, 0, 0, 0.15);\n",
              "      filter: drop-shadow(0px 1px 2px rgba(0, 0, 0, 0.3));\n",
              "      fill: #FFFFFF;\n",
              "    }\n",
              "  </style>\n",
              "\n",
              "    <script>\n",
              "      const buttonEl =\n",
              "        document.querySelector('#df-e9130546-f773-4348-9df4-2965d3179d3a button.colab-df-convert');\n",
              "      buttonEl.style.display =\n",
              "        google.colab.kernel.accessAllowed ? 'block' : 'none';\n",
              "\n",
              "      async function convertToInteractive(key) {\n",
              "        const element = document.querySelector('#df-e9130546-f773-4348-9df4-2965d3179d3a');\n",
              "        const dataTable =\n",
              "          await google.colab.kernel.invokeFunction('convertToInteractive',\n",
              "                                                    [key], {});\n",
              "        if (!dataTable) return;\n",
              "\n",
              "        const docLinkHtml = 'Like what you see? Visit the ' +\n",
              "          '<a target=\"_blank\" href=https://colab.research.google.com/notebooks/data_table.ipynb>data table notebook</a>'\n",
              "          + ' to learn more about interactive tables.';\n",
              "        element.innerHTML = '';\n",
              "        dataTable['output_type'] = 'display_data';\n",
              "        await google.colab.output.renderOutput(dataTable, element);\n",
              "        const docLink = document.createElement('div');\n",
              "        docLink.innerHTML = docLinkHtml;\n",
              "        element.appendChild(docLink);\n",
              "      }\n",
              "    </script>\n",
              "  </div>\n",
              "\n",
              "\n",
              "    <div id=\"df-4cba360d-6f4b-49f3-81f1-abe36671c754\">\n",
              "      <button class=\"colab-df-quickchart\" onclick=\"quickchart('df-4cba360d-6f4b-49f3-81f1-abe36671c754')\"\n",
              "                title=\"Suggest charts\"\n",
              "                style=\"display:none;\">\n",
              "\n",
              "<svg xmlns=\"http://www.w3.org/2000/svg\" height=\"24px\"viewBox=\"0 0 24 24\"\n",
              "     width=\"24px\">\n",
              "    <g>\n",
              "        <path d=\"M19 3H5c-1.1 0-2 .9-2 2v14c0 1.1.9 2 2 2h14c1.1 0 2-.9 2-2V5c0-1.1-.9-2-2-2zM9 17H7v-7h2v7zm4 0h-2V7h2v10zm4 0h-2v-4h2v4z\"/>\n",
              "    </g>\n",
              "</svg>\n",
              "      </button>\n",
              "\n",
              "<style>\n",
              "  .colab-df-quickchart {\n",
              "      --bg-color: #E8F0FE;\n",
              "      --fill-color: #1967D2;\n",
              "      --hover-bg-color: #E2EBFA;\n",
              "      --hover-fill-color: #174EA6;\n",
              "      --disabled-fill-color: #AAA;\n",
              "      --disabled-bg-color: #DDD;\n",
              "  }\n",
              "\n",
              "  [theme=dark] .colab-df-quickchart {\n",
              "      --bg-color: #3B4455;\n",
              "      --fill-color: #D2E3FC;\n",
              "      --hover-bg-color: #434B5C;\n",
              "      --hover-fill-color: #FFFFFF;\n",
              "      --disabled-bg-color: #3B4455;\n",
              "      --disabled-fill-color: #666;\n",
              "  }\n",
              "\n",
              "  .colab-df-quickchart {\n",
              "    background-color: var(--bg-color);\n",
              "    border: none;\n",
              "    border-radius: 50%;\n",
              "    cursor: pointer;\n",
              "    display: none;\n",
              "    fill: var(--fill-color);\n",
              "    height: 32px;\n",
              "    padding: 0;\n",
              "    width: 32px;\n",
              "  }\n",
              "\n",
              "  .colab-df-quickchart:hover {\n",
              "    background-color: var(--hover-bg-color);\n",
              "    box-shadow: 0 1px 2px rgba(60, 64, 67, 0.3), 0 1px 3px 1px rgba(60, 64, 67, 0.15);\n",
              "    fill: var(--button-hover-fill-color);\n",
              "  }\n",
              "\n",
              "  .colab-df-quickchart-complete:disabled,\n",
              "  .colab-df-quickchart-complete:disabled:hover {\n",
              "    background-color: var(--disabled-bg-color);\n",
              "    fill: var(--disabled-fill-color);\n",
              "    box-shadow: none;\n",
              "  }\n",
              "\n",
              "  .colab-df-spinner {\n",
              "    border: 2px solid var(--fill-color);\n",
              "    border-color: transparent;\n",
              "    border-bottom-color: var(--fill-color);\n",
              "    animation:\n",
              "      spin 1s steps(1) infinite;\n",
              "  }\n",
              "\n",
              "  @keyframes spin {\n",
              "    0% {\n",
              "      border-color: transparent;\n",
              "      border-bottom-color: var(--fill-color);\n",
              "      border-left-color: var(--fill-color);\n",
              "    }\n",
              "    20% {\n",
              "      border-color: transparent;\n",
              "      border-left-color: var(--fill-color);\n",
              "      border-top-color: var(--fill-color);\n",
              "    }\n",
              "    30% {\n",
              "      border-color: transparent;\n",
              "      border-left-color: var(--fill-color);\n",
              "      border-top-color: var(--fill-color);\n",
              "      border-right-color: var(--fill-color);\n",
              "    }\n",
              "    40% {\n",
              "      border-color: transparent;\n",
              "      border-right-color: var(--fill-color);\n",
              "      border-top-color: var(--fill-color);\n",
              "    }\n",
              "    60% {\n",
              "      border-color: transparent;\n",
              "      border-right-color: var(--fill-color);\n",
              "    }\n",
              "    80% {\n",
              "      border-color: transparent;\n",
              "      border-right-color: var(--fill-color);\n",
              "      border-bottom-color: var(--fill-color);\n",
              "    }\n",
              "    90% {\n",
              "      border-color: transparent;\n",
              "      border-bottom-color: var(--fill-color);\n",
              "    }\n",
              "  }\n",
              "</style>\n",
              "\n",
              "      <script>\n",
              "        async function quickchart(key) {\n",
              "          const quickchartButtonEl =\n",
              "            document.querySelector('#' + key + ' button');\n",
              "          quickchartButtonEl.disabled = true;  // To prevent multiple clicks.\n",
              "          quickchartButtonEl.classList.add('colab-df-spinner');\n",
              "          try {\n",
              "            const charts = await google.colab.kernel.invokeFunction(\n",
              "                'suggestCharts', [key], {});\n",
              "          } catch (error) {\n",
              "            console.error('Error during call to suggestCharts:', error);\n",
              "          }\n",
              "          quickchartButtonEl.classList.remove('colab-df-spinner');\n",
              "          quickchartButtonEl.classList.add('colab-df-quickchart-complete');\n",
              "        }\n",
              "        (() => {\n",
              "          let quickchartButtonEl =\n",
              "            document.querySelector('#df-4cba360d-6f4b-49f3-81f1-abe36671c754 button');\n",
              "          quickchartButtonEl.style.display =\n",
              "            google.colab.kernel.accessAllowed ? 'block' : 'none';\n",
              "        })();\n",
              "      </script>\n",
              "    </div>\n",
              "\n",
              "    </div>\n",
              "  </div>\n"
            ],
            "application/vnd.google.colaboratory.intrinsic+json": {
              "type": "dataframe",
              "summary": "{\n  \"name\": \"df\",\n  \"rows\": 8,\n  \"fields\": [\n    {\n      \"column\": \"Tenure\",\n      \"properties\": {\n        \"dtype\": \"number\",\n        \"std\": 1319.522898638514,\n        \"min\": 0.0,\n        \"max\": 3747.0,\n        \"num_unique_values\": 8,\n        \"samples\": [\n          10.081398452095009,\n          9.0,\n          3747.0\n        ],\n        \"semantic_type\": \"\",\n        \"description\": \"\"\n      }\n    },\n    {\n      \"column\": \"WarehouseToHome\",\n      \"properties\": {\n        \"dtype\": \"number\",\n        \"std\": 1324.115457692152,\n        \"min\": 5.0,\n        \"max\": 3772.0,\n        \"num_unique_values\": 8,\n        \"samples\": [\n          15.650583244962885,\n          14.0,\n          3772.0\n        ],\n        \"semantic_type\": \"\",\n        \"description\": \"\"\n      }\n    },\n    {\n      \"column\": \"NumberOfDeviceRegistered\",\n      \"properties\": {\n        \"dtype\": \"number\",\n        \"std\": 1392.2087069032393,\n        \"min\": 1.0,\n        \"max\": 3941.0,\n        \"num_unique_values\": 7,\n        \"samples\": [\n          3941.0,\n          3.679269221009896,\n          4.0\n        ],\n        \"semantic_type\": \"\",\n        \"description\": \"\"\n      }\n    },\n    {\n      \"column\": \"SatisfactionScore\",\n      \"properties\": {\n        \"dtype\": \"number\",\n        \"std\": 1392.3711526109137,\n        \"min\": 1.0,\n        \"max\": 3941.0,\n        \"num_unique_values\": 8,\n        \"samples\": [\n          3.0883024613042376,\n          3.0,\n          3941.0\n        ],\n        \"semantic_type\": \"\",\n        \"description\": \"\"\n      }\n    },\n    {\n      \"column\": \"NumberOfAddress\",\n      \"properties\": {\n        \"dtype\": \"number\",\n        \"std\": 1391.3063896813248,\n        \"min\": 1.0,\n        \"max\": 3941.0,\n        \"num_unique_values\": 8,\n        \"samples\": [\n          4.237756914488709,\n          3.0,\n          3941.0\n        ],\n        \"semantic_type\": \"\",\n        \"description\": \"\"\n      }\n    },\n    {\n      \"column\": \"Complain\",\n      \"properties\": {\n        \"dtype\": \"number\",\n        \"std\": 1393.215955128904,\n        \"min\": 0.0,\n        \"max\": 3941.0,\n        \"num_unique_values\": 5,\n        \"samples\": [\n          0.2824156305506217,\n          1.0,\n          0.4502315825981316\n        ],\n        \"semantic_type\": \"\",\n        \"description\": \"\"\n      }\n    },\n    {\n      \"column\": \"DaySinceLastOrder\",\n      \"properties\": {\n        \"dtype\": \"number\",\n        \"std\": 1314.789632619236,\n        \"min\": 0.0,\n        \"max\": 3728.0,\n        \"num_unique_values\": 8,\n        \"samples\": [\n          4.531652360515022,\n          3.0,\n          3728.0\n        ],\n        \"semantic_type\": \"\",\n        \"description\": \"\"\n      }\n    },\n    {\n      \"column\": \"CashbackAmount\",\n      \"properties\": {\n        \"dtype\": \"number\",\n        \"std\": 1343.6097662110437,\n        \"min\": 0.0,\n        \"max\": 3941.0,\n        \"num_unique_values\": 8,\n        \"samples\": [\n          176.7074194366912,\n          163.34,\n          3941.0\n        ],\n        \"semantic_type\": \"\",\n        \"description\": \"\"\n      }\n    },\n    {\n      \"column\": \"Churn\",\n      \"properties\": {\n        \"dtype\": \"number\",\n        \"std\": 1393.2757892669752,\n        \"min\": 0.0,\n        \"max\": 3941.0,\n        \"num_unique_values\": 5,\n        \"samples\": [\n          0.17102258310073584,\n          1.0,\n          0.3765764761416574\n        ],\n        \"semantic_type\": \"\",\n        \"description\": \"\"\n      }\n    }\n  ]\n}"
            }
          },
          "metadata": {},
          "execution_count": 20
        }
      ],
      "source": [
        "df.describe()"
      ]
    },
    {
      "cell_type": "markdown",
      "metadata": {
        "id": "ZoLtUYDa0IDR"
      },
      "source": [
        "Tabel statistik ini memberikan info penting. Misalnya, Tenure pelanggan rata-rata sekitar 10 bulan. SatisfactionScore berkisar dari 1 hingga 5. Informasi seperti ini berguna untuk memahami karakteristik umum dari pelanggan kita dan mendeteksi adanya anomali (misalnya, jika min atau max suatu kolom tidak masuk akal)."
      ]
    },
    {
      "cell_type": "markdown",
      "metadata": {
        "id": "Iy6nsVDT0IDR"
      },
      "source": [
        "### Distribusi Target Variable (Churn)\n",
        "Visualisasi ini penting untuk mengetahui proporsi antara pelanggan yang churn dan yang tidak. Jika jumlah salah satu kelas jauh lebih sedikit (imbalanced dataset), hal ini dapat memengaruhi evaluasi model."
      ]
    },
    {
      "cell_type": "code",
      "execution_count": 21,
      "metadata": {
        "colab": {
          "base_uri": "https://localhost:8080/",
          "height": 472
        },
        "id": "yiSbYgNv0IDR",
        "outputId": "510965ea-d0fd-4e4b-946a-3ed73e81f405"
      },
      "outputs": [
        {
          "output_type": "display_data",
          "data": {
            "text/plain": [
              "<Figure size 640x480 with 1 Axes>"
            ],
            "image/png": "[encoded data removed]"
          },
          "metadata": {}
        }
      ],
      "source": [
        "sns.countplot(x='Churn', data=df)\n",
        "plt.title('Distribusi Customer Churn')\n",
        "plt.xlabel('Churn (0 = Tidak, 1 = Ya)')\n",
        "plt.ylabel('Jumlah Pelanggan')\n",
        "plt.show()"
      ]
    },
    {
      "cell_type": "markdown",
      "metadata": {
        "id": "Enp46EbU0IDR"
      },
      "source": [
        "Grafik menunjukkan bahwa jumlah pelanggan yang tidak churn (kelas 0) jauh lebih banyak daripada yang churn (kelas 1). Ini adalah kasus imbalanced dataset. Karena itu, accuracy saja tidak akan menjadi metric yang baik untuk mengevaluasi model. Kita harus lebih fokus pada metric seperti Recall untuk kelas churn."
      ]
    },
    {
      "cell_type": "markdown",
      "metadata": {
        "id": "4SCTLf2D0IDR"
      },
      "source": [
        "## Data Preprocessing"
      ]
    },
    {
      "cell_type": "markdown",
      "source": [
        "Tahap Data Preprocessing bertujuan untuk membersihkan dan mempersiapkan data agar siap digunakan untuk modeling."
      ],
      "metadata": {
        "id": "2yvTyJUzJHaG"
      }
    },
    {
      "cell_type": "markdown",
      "source": [
        "### Metode Preprocessing yang Dilakukan\n",
        "\n",
        "Berikut adalah ringkasan metode preprocessing yang kita lakukan pada proyek ini:\n",
        "1.  Data Cleaning / Imputation: Menangani nilai yang hilang (missing values) dengan mengisi nilai median pada kolom-kolom numerik. Ini adalah langkah pembersihan data untuk memastikan tidak ada data kosong.\n",
        "2.  Feature Engineering (Encoding): Mengubah fitur kategorikal (PreferedOrderCat, MaritalStatus) menjadi format numerik menggunakan One-Hot Encoding. Ini adalah rekayasa fitur karena kita mengubah representasi fitur agar dapat diproses oleh model.\n",
        "3.  Feature Scaling: Menyamakan skala semua fitur numerik menggunakan StandardScaler agar tidak ada fitur yang mendominasi proses pembelajaran model.\n",
        "\n",
        "Pada proyek ini, kita tidak melakukan feature selection secara eksplisit (seperti membuang fitur). Kita menggunakan semua fitur yang tersedia setelah proses pembersihan dan engineering."
      ],
      "metadata": {
        "id": "yOrKO5CTJUEz"
      }
    },
    {
      "cell_type": "markdown",
      "metadata": {
        "id": "WvQroyBH0IDR"
      },
      "source": [
        "### Penanganan Missing Values (Data Cleaning)\n",
        "Missing values dapat menyebabkan error atau prediksi yang tidak akurat. Kita akan mengisi missing values dengan nilai median dari masing-masing kolom. Median dipilih karena lebih tahan terhadap outlier dibandingkan mean, sehingga tidak akan menggeser distribusi data secara signifikan."
      ]
    },
    {
      "cell_type": "code",
      "execution_count": 22,
      "metadata": {
        "colab": {
          "base_uri": "https://localhost:8080/"
        },
        "id": "IoDZQ6Wm0IDR",
        "outputId": "21565094-12ad-4f84-9fa5-4ec2db5c334b"
      },
      "outputs": [
        {
          "output_type": "stream",
          "name": "stdout",
          "text": [
            "Jumlah missing values setelah imputasi: 0\n"
          ]
        }
      ],
      "source": [
        "df['Tenure'].fillna(df['Tenure'].median(), inplace=True)\n",
        "df['WarehouseToHome'].fillna(df['WarehouseToHome'].median(), inplace=True)\n",
        "df['DaySinceLastOrder'].fillna(df['DaySinceLastOrder'].median(), inplace=True)\n",
        "\n",
        "print(\"Jumlah missing values setelah imputasi:\", df.isnull().sum().sum())"
      ]
    },
    {
      "cell_type": "markdown",
      "metadata": {
        "id": "-RxosSWx0IDR"
      },
      "source": [
        "Output 0 mengonfirmasi bahwa semua missing values di dalam dataset telah berhasil ditangani. Data kita sekarang sudah lengkap dan siap untuk tahap selanjutnya."
      ]
    },
    {
      "cell_type": "markdown",
      "metadata": {
        "id": "khOlUJ8H0IDR"
      },
      "source": [
        "### Categorical Feature Encoding (Feature Engineering)\n",
        "Model machine learning hanya dapat memproses data numerik. Oleh karena itu, fitur-fitur kategorikal seperti PreferedOrderCat dan MaritalStatus perlu diubah menjadi angka. Kita menggunakan One-Hot Encoding karena fitur-fitur ini bersifat nominal."
      ]
    },
    {
      "cell_type": "code",
      "execution_count": 23,
      "metadata": {
        "colab": {
          "base_uri": "https://localhost:8080/",
          "height": 244
        },
        "id": "fv9axLDg0IDR",
        "outputId": "9824cad7-ac0f-4c63-d431-50254d0a5fb7"
      },
      "outputs": [
        {
          "output_type": "execute_result",
          "data": {
            "text/plain": [
              "   Tenure  WarehouseToHome  NumberOfDeviceRegistered  SatisfactionScore  \\\n",
              "0    15.0             29.0                         4                  3   \n",
              "1     7.0             25.0                         4                  1   \n",
              "2    27.0             13.0                         3                  1   \n",
              "3    20.0             25.0                         4                  3   \n",
              "4    30.0             15.0                         4                  4   \n",
              "\n",
              "   NumberOfAddress  Complain  DaySinceLastOrder  CashbackAmount  Churn  \\\n",
              "0                2         0                7.0          143.32      0   \n",
              "1                2         0                7.0          129.29      0   \n",
              "2                5         0                7.0          168.54      0   \n",
              "3                7         0                3.0          230.27      0   \n",
              "4                8         0                8.0          322.17      0   \n",
              "\n",
              "   PreferedOrderCat_Grocery  PreferedOrderCat_Laptop & Accessory  \\\n",
              "0                     False                                 True   \n",
              "1                     False                                False   \n",
              "2                     False                                 True   \n",
              "3                     False                                False   \n",
              "4                     False                                False   \n",
              "\n",
              "   PreferedOrderCat_Mobile  PreferedOrderCat_Mobile Phone  \\\n",
              "0                    False                          False   \n",
              "1                     True                          False   \n",
              "2                    False                          False   \n",
              "3                    False                          False   \n",
              "4                    False                          False   \n",
              "\n",
              "   PreferedOrderCat_Others  MaritalStatus_Married  MaritalStatus_Single  \n",
              "0                    False                  False                  True  \n",
              "1                    False                   True                 False  \n",
              "2                    False                   True                 False  \n",
              "3                    False                  False                 False  \n",
              "4                     True                  False                  True  "
            ],
            "text/html": [
              "\n",
              "  <div id=\"df-534a73af-abea-4baf-bb28-64852a894a1f\" class=\"colab-df-container\">\n",
              "    <div>\n",
              "<style scoped>\n",
              "    .dataframe tbody tr th:only-of-type {\n",
              "        vertical-align: middle;\n",
              "    }\n",
              "\n",
              "    .dataframe tbody tr th {\n",
              "        vertical-align: top;\n",
              "    }\n",
              "\n",
              "    .dataframe thead th {\n",
              "        text-align: right;\n",
              "    }\n",
              "</style>\n",
              "<table border=\"1\" class=\"dataframe\">\n",
              "  <thead>\n",
              "    <tr style=\"text-align: right;\">\n",
              "      <th></th>\n",
              "      <th>Tenure</th>\n",
              "      <th>WarehouseToHome</th>\n",
              "      <th>NumberOfDeviceRegistered</th>\n",
              "      <th>SatisfactionScore</th>\n",
              "      <th>NumberOfAddress</th>\n",
              "      <th>Complain</th>\n",
              "      <th>DaySinceLastOrder</th>\n",
              "      <th>CashbackAmount</th>\n",
              "      <th>Churn</th>\n",
              "      <th>PreferedOrderCat_Grocery</th>\n",
              "      <th>PreferedOrderCat_Laptop &amp; Accessory</th>\n",
              "      <th>PreferedOrderCat_Mobile</th>\n",
              "      <th>PreferedOrderCat_Mobile Phone</th>\n",
              "      <th>PreferedOrderCat_Others</th>\n",
              "      <th>MaritalStatus_Married</th>\n",
              "      <th>MaritalStatus_Single</th>\n",
              "    </tr>\n",
              "  </thead>\n",
              "  <tbody>\n",
              "    <tr>\n",
              "      <th>0</th>\n",
              "      <td>15.0</td>\n",
              "      <td>29.0</td>\n",
              "      <td>4</td>\n",
              "      <td>3</td>\n",
              "      <td>2</td>\n",
              "      <td>0</td>\n",
              "      <td>7.0</td>\n",
              "      <td>143.32</td>\n",
              "      <td>0</td>\n",
              "      <td>False</td>\n",
              "      <td>True</td>\n",
              "      <td>False</td>\n",
              "      <td>False</td>\n",
              "      <td>False</td>\n",
              "      <td>False</td>\n",
              "      <td>True</td>\n",
              "    </tr>\n",
              "    <tr>\n",
              "      <th>1</th>\n",
              "      <td>7.0</td>\n",
              "      <td>25.0</td>\n",
              "      <td>4</td>\n",
              "      <td>1</td>\n",
              "      <td>2</td>\n",
              "      <td>0</td>\n",
              "      <td>7.0</td>\n",
              "      <td>129.29</td>\n",
              "      <td>0</td>\n",
              "      <td>False</td>\n",
              "      <td>False</td>\n",
              "      <td>True</td>\n",
              "      <td>False</td>\n",
              "      <td>False</td>\n",
              "      <td>True</td>\n",
              "      <td>False</td>\n",
              "    </tr>\n",
              "    <tr>\n",
              "      <th>2</th>\n",
              "      <td>27.0</td>\n",
              "      <td>13.0</td>\n",
              "      <td>3</td>\n",
              "      <td>1</td>\n",
              "      <td>5</td>\n",
              "      <td>0</td>\n",
              "      <td>7.0</td>\n",
              "      <td>168.54</td>\n",
              "      <td>0</td>\n",
              "      <td>False</td>\n",
              "      <td>True</td>\n",
              "      <td>False</td>\n",
              "      <td>False</td>\n",
              "      <td>False</td>\n",
              "      <td>True</td>\n",
              "      <td>False</td>\n",
              "    </tr>\n",
              "    <tr>\n",
              "      <th>3</th>\n",
              "      <td>20.0</td>\n",
              "      <td>25.0</td>\n",
              "      <td>4</td>\n",
              "      <td>3</td>\n",
              "      <td>7</td>\n",
              "      <td>0</td>\n",
              "      <td>3.0</td>\n",
              "      <td>230.27</td>\n",
              "      <td>0</td>\n",
              "      <td>False</td>\n",
              "      <td>False</td>\n",
              "      <td>False</td>\n",
              "      <td>False</td>\n",
              "      <td>False</td>\n",
              "      <td>False</td>\n",
              "      <td>False</td>\n",
              "    </tr>\n",
              "    <tr>\n",
              "      <th>4</th>\n",
              "      <td>30.0</td>\n",
              "      <td>15.0</td>\n",
              "      <td>4</td>\n",
              "      <td>4</td>\n",
              "      <td>8</td>\n",
              "      <td>0</td>\n",
              "      <td>8.0</td>\n",
              "      <td>322.17</td>\n",
              "      <td>0</td>\n",
              "      <td>False</td>\n",
              "      <td>False</td>\n",
              "      <td>False</td>\n",
              "      <td>False</td>\n",
              "      <td>True</td>\n",
              "      <td>False</td>\n",
              "      <td>True</td>\n",
              "    </tr>\n",
              "  </tbody>\n",
              "</table>\n",
              "</div>\n",
              "    <div class=\"colab-df-buttons\">\n",
              "\n",
              "  <div class=\"colab-df-container\">\n",
              "    <button class=\"colab-df-convert\" onclick=\"convertToInteractive('df-534a73af-abea-4baf-bb28-64852a894a1f')\"\n",
              "            title=\"Convert this dataframe to an interactive table.\"\n",
              "            style=\"display:none;\">\n",
              "\n",
              "  <svg xmlns=\"http://www.w3.org/2000/svg\" height=\"24px\" viewBox=\"0 -960 960 960\">\n",
              "    <path d=\"M120-120v-720h720v720H120Zm60-500h600v-160H180v160Zm220 220h160v-160H400v160Zm0 220h160v-160H400v160ZM180-400h160v-160H180v160Zm440 0h160v-160H620v160ZM180-180h160v-160H180v160Zm440 0h160v-160H620v160Z\"/>\n",
              "  </svg>\n",
              "    </button>\n",
              "\n",
              "  <style>\n",
              "    .colab-df-container {\n",
              "      display:flex;\n",
              "      gap: 12px;\n",
              "    }\n",
              "\n",
              "    .colab-df-convert {\n",
              "      background-color: #E8F0FE;\n",
              "      border: none;\n",
              "      border-radius: 50%;\n",
              "      cursor: pointer;\n",
              "      display: none;\n",
              "      fill: #1967D2;\n",
              "      height: 32px;\n",
              "      padding: 0 0 0 0;\n",
              "      width: 32px;\n",
              "    }\n",
              "\n",
              "    .colab-df-convert:hover {\n",
              "      background-color: #E2EBFA;\n",
              "      box-shadow: 0px 1px 2px rgba(60, 64, 67, 0.3), 0px 1px 3px 1px rgba(60, 64, 67, 0.15);\n",
              "      fill: #174EA6;\n",
              "    }\n",
              "\n",
              "    .colab-df-buttons div {\n",
              "      margin-bottom: 4px;\n",
              "    }\n",
              "\n",
              "    [theme=dark] .colab-df-convert {\n",
              "      background-color: #3B4455;\n",
              "      fill: #D2E3FC;\n",
              "    }\n",
              "\n",
              "    [theme=dark] .colab-df-convert:hover {\n",
              "      background-color: #434B5C;\n",
              "      box-shadow: 0px 1px 3px 1px rgba(0, 0, 0, 0.15);\n",
              "      filter: drop-shadow(0px 1px 2px rgba(0, 0, 0, 0.3));\n",
              "      fill: #FFFFFF;\n",
              "    }\n",
              "  </style>\n",
              "\n",
              "    <script>\n",
              "      const buttonEl =\n",
              "        document.querySelector('#df-534a73af-abea-4baf-bb28-64852a894a1f button.colab-df-convert');\n",
              "      buttonEl.style.display =\n",
              "        google.colab.kernel.accessAllowed ? 'block' : 'none';\n",
              "\n",
              "      async function convertToInteractive(key) {\n",
              "        const element = document.querySelector('#df-534a73af-abea-4baf-bb28-64852a894a1f');\n",
              "        const dataTable =\n",
              "          await google.colab.kernel.invokeFunction('convertToInteractive',\n",
              "                                                    [key], {});\n",
              "        if (!dataTable) return;\n",
              "\n",
              "        const docLinkHtml = 'Like what you see? Visit the ' +\n",
              "          '<a target=\"_blank\" href=https://colab.research.google.com/notebooks/data_table.ipynb>data table notebook</a>'\n",
              "          + ' to learn more about interactive tables.';\n",
              "        element.innerHTML = '';\n",
              "        dataTable['output_type'] = 'display_data';\n",
              "        await google.colab.output.renderOutput(dataTable, element);\n",
              "        const docLink = document.createElement('div');\n",
              "        docLink.innerHTML = docLinkHtml;\n",
              "        element.appendChild(docLink);\n",
              "      }\n",
              "    </script>\n",
              "  </div>\n",
              "\n",
              "\n",
              "    <div id=\"df-0cea2644-a93f-48da-b9a8-4032e0c23cd0\">\n",
              "      <button class=\"colab-df-quickchart\" onclick=\"quickchart('df-0cea2644-a93f-48da-b9a8-4032e0c23cd0')\"\n",
              "                title=\"Suggest charts\"\n",
              "                style=\"display:none;\">\n",
              "\n",
              "<svg xmlns=\"http://www.w3.org/2000/svg\" height=\"24px\"viewBox=\"0 0 24 24\"\n",
              "     width=\"24px\">\n",
              "    <g>\n",
              "        <path d=\"M19 3H5c-1.1 0-2 .9-2 2v14c0 1.1.9 2 2 2h14c1.1 0 2-.9 2-2V5c0-1.1-.9-2-2-2zM9 17H7v-7h2v7zm4 0h-2V7h2v10zm4 0h-2v-4h2v4z\"/>\n",
              "    </g>\n",
              "</svg>\n",
              "      </button>\n",
              "\n",
              "<style>\n",
              "  .colab-df-quickchart {\n",
              "      --bg-color: #E8F0FE;\n",
              "      --fill-color: #1967D2;\n",
              "      --hover-bg-color: #E2EBFA;\n",
              "      --hover-fill-color: #174EA6;\n",
              "      --disabled-fill-color: #AAA;\n",
              "      --disabled-bg-color: #DDD;\n",
              "  }\n",
              "\n",
              "  [theme=dark] .colab-df-quickchart {\n",
              "      --bg-color: #3B4455;\n",
              "      --fill-color: #D2E3FC;\n",
              "      --hover-bg-color: #434B5C;\n",
              "      --hover-fill-color: #FFFFFF;\n",
              "      --disabled-bg-color: #3B4455;\n",
              "      --disabled-fill-color: #666;\n",
              "  }\n",
              "\n",
              "  .colab-df-quickchart {\n",
              "    background-color: var(--bg-color);\n",
              "    border: none;\n",
              "    border-radius: 50%;\n",
              "    cursor: pointer;\n",
              "    display: none;\n",
              "    fill: var(--fill-color);\n",
              "    height: 32px;\n",
              "    padding: 0;\n",
              "    width: 32px;\n",
              "  }\n",
              "\n",
              "  .colab-df-quickchart:hover {\n",
              "    background-color: var(--hover-bg-color);\n",
              "    box-shadow: 0 1px 2px rgba(60, 64, 67, 0.3), 0 1px 3px 1px rgba(60, 64, 67, 0.15);\n",
              "    fill: var(--button-hover-fill-color);\n",
              "  }\n",
              "\n",
              "  .colab-df-quickchart-complete:disabled,\n",
              "  .colab-df-quickchart-complete:disabled:hover {\n",
              "    background-color: var(--disabled-bg-color);\n",
              "    fill: var(--disabled-fill-color);\n",
              "    box-shadow: none;\n",
              "  }\n",
              "\n",
              "  .colab-df-spinner {\n",
              "    border: 2px solid var(--fill-color);\n",
              "    border-color: transparent;\n",
              "    border-bottom-color: var(--fill-color);\n",
              "    animation:\n",
              "      spin 1s steps(1) infinite;\n",
              "  }\n",
              "\n",
              "  @keyframes spin {\n",
              "    0% {\n",
              "      border-color: transparent;\n",
              "      border-bottom-color: var(--fill-color);\n",
              "      border-left-color: var(--fill-color);\n",
              "    }\n",
              "    20% {\n",
              "      border-color: transparent;\n",
              "      border-left-color: var(--fill-color);\n",
              "      border-top-color: var(--fill-color);\n",
              "    }\n",
              "    30% {\n",
              "      border-color: transparent;\n",
              "      border-left-color: var(--fill-color);\n",
              "      border-top-color: var(--fill-color);\n",
              "      border-right-color: var(--fill-color);\n",
              "    }\n",
              "    40% {\n",
              "      border-color: transparent;\n",
              "      border-right-color: var(--fill-color);\n",
              "      border-top-color: var(--fill-color);\n",
              "    }\n",
              "    60% {\n",
              "      border-color: transparent;\n",
              "      border-right-color: var(--fill-color);\n",
              "    }\n",
              "    80% {\n",
              "      border-color: transparent;\n",
              "      border-right-color: var(--fill-color);\n",
              "      border-bottom-color: var(--fill-color);\n",
              "    }\n",
              "    90% {\n",
              "      border-color: transparent;\n",
              "      border-bottom-color: var(--fill-color);\n",
              "    }\n",
              "  }\n",
              "</style>\n",
              "\n",
              "      <script>\n",
              "        async function quickchart(key) {\n",
              "          const quickchartButtonEl =\n",
              "            document.querySelector('#' + key + ' button');\n",
              "          quickchartButtonEl.disabled = true;  // To prevent multiple clicks.\n",
              "          quickchartButtonEl.classList.add('colab-df-spinner');\n",
              "          try {\n",
              "            const charts = await google.colab.kernel.invokeFunction(\n",
              "                'suggestCharts', [key], {});\n",
              "          } catch (error) {\n",
              "            console.error('Error during call to suggestCharts:', error);\n",
              "          }\n",
              "          quickchartButtonEl.classList.remove('colab-df-spinner');\n",
              "          quickchartButtonEl.classList.add('colab-df-quickchart-complete');\n",
              "        }\n",
              "        (() => {\n",
              "          let quickchartButtonEl =\n",
              "            document.querySelector('#df-0cea2644-a93f-48da-b9a8-4032e0c23cd0 button');\n",
              "          quickchartButtonEl.style.display =\n",
              "            google.colab.kernel.accessAllowed ? 'block' : 'none';\n",
              "        })();\n",
              "      </script>\n",
              "    </div>\n",
              "\n",
              "    </div>\n",
              "  </div>\n"
            ],
            "application/vnd.google.colaboratory.intrinsic+json": {
              "type": "dataframe",
              "variable_name": "df_encoded",
              "summary": "{\n  \"name\": \"df_encoded\",\n  \"rows\": 3941,\n  \"fields\": [\n    {\n      \"column\": \"Tenure\",\n      \"properties\": {\n        \"dtype\": \"number\",\n        \"std\": 8.290289617263394,\n        \"min\": 0.0,\n        \"max\": 61.0,\n        \"num_unique_values\": 36,\n        \"samples\": [\n          50.0,\n          19.0,\n          21.0\n        ],\n        \"semantic_type\": \"\",\n        \"description\": \"\"\n      }\n    },\n    {\n      \"column\": \"WarehouseToHome\",\n      \"properties\": {\n        \"dtype\": \"number\",\n        \"std\": 8.275800331589142,\n        \"min\": 5.0,\n        \"max\": 127.0,\n        \"num_unique_values\": 33,\n        \"samples\": [\n          36.0,\n          18.0,\n          30.0\n        ],\n        \"semantic_type\": \"\",\n        \"description\": \"\"\n      }\n    },\n    {\n      \"column\": \"NumberOfDeviceRegistered\",\n      \"properties\": {\n        \"dtype\": \"number\",\n        \"std\": 1,\n        \"min\": 1,\n        \"max\": 6,\n        \"num_unique_values\": 6,\n        \"samples\": [\n          4,\n          3,\n          1\n        ],\n        \"semantic_type\": \"\",\n        \"description\": \"\"\n      }\n    },\n    {\n      \"column\": \"SatisfactionScore\",\n      \"properties\": {\n        \"dtype\": \"number\",\n        \"std\": 1,\n        \"min\": 1,\n        \"max\": 5,\n        \"num_unique_values\": 5,\n        \"samples\": [\n          1,\n          5,\n          4\n        ],\n        \"semantic_type\": \"\",\n        \"description\": \"\"\n      }\n    },\n    {\n      \"column\": \"NumberOfAddress\",\n      \"properties\": {\n        \"dtype\": \"number\",\n        \"std\": 2,\n        \"min\": 1,\n        \"max\": 22,\n        \"num_unique_values\": 14,\n        \"samples\": [\n          11,\n          19,\n          2\n        ],\n        \"semantic_type\": \"\",\n        \"description\": \"\"\n      }\n    },\n    {\n      \"column\": \"Complain\",\n      \"properties\": {\n        \"dtype\": \"number\",\n        \"std\": 0,\n        \"min\": 0,\n        \"max\": 1,\n        \"num_unique_values\": 2,\n        \"samples\": [\n          1,\n          0\n        ],\n        \"semantic_type\": \"\",\n        \"description\": \"\"\n      }\n    },\n    {\n      \"column\": \"DaySinceLastOrder\",\n      \"properties\": {\n        \"dtype\": \"number\",\n        \"std\": 3.583908887304862,\n        \"min\": 0.0,\n        \"max\": 46.0,\n        \"num_unique_values\": 22,\n        \"samples\": [\n          7.0,\n          5.0\n        ],\n        \"semantic_type\": \"\",\n        \"description\": \"\"\n      }\n    },\n    {\n      \"column\": \"CashbackAmount\",\n      \"properties\": {\n        \"dtype\": \"number\",\n        \"std\": 48.79178424292386,\n        \"min\": 0.0,\n        \"max\": 324.99,\n        \"num_unique_values\": 2335,\n        \"samples\": [\n          159.24,\n          114.2\n        ],\n        \"semantic_type\": \"\",\n        \"description\": \"\"\n      }\n    },\n    {\n      \"column\": \"Churn\",\n      \"properties\": {\n        \"dtype\": \"number\",\n        \"std\": 0,\n        \"min\": 0,\n        \"max\": 1,\n        \"num_unique_values\": 2,\n        \"samples\": [\n          1,\n          0\n        ],\n        \"semantic_type\": \"\",\n        \"description\": \"\"\n      }\n    },\n    {\n      \"column\": \"PreferedOrderCat_Grocery\",\n      \"properties\": {\n        \"dtype\": \"boolean\",\n        \"num_unique_values\": 2,\n        \"samples\": [\n          true,\n          false\n        ],\n        \"semantic_type\": \"\",\n        \"description\": \"\"\n      }\n    },\n    {\n      \"column\": \"PreferedOrderCat_Laptop & Accessory\",\n      \"properties\": {\n        \"dtype\": \"boolean\",\n        \"num_unique_values\": 2,\n        \"samples\": [\n          false,\n          true\n        ],\n        \"semantic_type\": \"\",\n        \"description\": \"\"\n      }\n    },\n    {\n      \"column\": \"PreferedOrderCat_Mobile\",\n      \"properties\": {\n        \"dtype\": \"boolean\",\n        \"num_unique_values\": 2,\n        \"samples\": [\n          true,\n          false\n        ],\n        \"semantic_type\": \"\",\n        \"description\": \"\"\n      }\n    },\n    {\n      \"column\": \"PreferedOrderCat_Mobile Phone\",\n      \"properties\": {\n        \"dtype\": \"boolean\",\n        \"num_unique_values\": 2,\n        \"samples\": [\n          true,\n          false\n        ],\n        \"semantic_type\": \"\",\n        \"description\": \"\"\n      }\n    },\n    {\n      \"column\": \"PreferedOrderCat_Others\",\n      \"properties\": {\n        \"dtype\": \"boolean\",\n        \"num_unique_values\": 2,\n        \"samples\": [\n          true,\n          false\n        ],\n        \"semantic_type\": \"\",\n        \"description\": \"\"\n      }\n    },\n    {\n      \"column\": \"MaritalStatus_Married\",\n      \"properties\": {\n        \"dtype\": \"boolean\",\n        \"num_unique_values\": 2,\n        \"samples\": [\n          true,\n          false\n        ],\n        \"semantic_type\": \"\",\n        \"description\": \"\"\n      }\n    },\n    {\n      \"column\": \"MaritalStatus_Single\",\n      \"properties\": {\n        \"dtype\": \"boolean\",\n        \"num_unique_values\": 2,\n        \"samples\": [\n          false,\n          true\n        ],\n        \"semantic_type\": \"\",\n        \"description\": \"\"\n      }\n    }\n  ]\n}"
            }
          },
          "metadata": {},
          "execution_count": 23
        }
      ],
      "source": [
        "df_encoded = pd.get_dummies(df, columns=['PreferedOrderCat', 'MaritalStatus'], drop_first=True)\n",
        "df_encoded.head()"
      ]
    },
    {
      "cell_type": "markdown",
      "metadata": {
        "id": "PdLDVKp60IDR"
      },
      "source": [
        "Dapat dilihat bahwa kolom PreferedOrderCat dan MaritalStatus yang asli telah hilang, dan digantikan oleh kolom-kolom biner baru (contoh: PreferedOrderCat_Grocery, MaritalStatus_Married)."
      ]
    },
    {
      "cell_type": "markdown",
      "metadata": {
        "id": "3OYXV6uN0IDR"
      },
      "source": [
        "### Pembagian Data: Train dan Test Set\n",
        "Kita membagi data menjadi 80% untuk training dan 20% untuk testing. Ini penting untuk mengevaluasi seberapa baik performa model pada data baru."
      ]
    },
    {
      "cell_type": "code",
      "execution_count": 24,
      "metadata": {
        "id": "KRwnkZnC0IDR"
      },
      "outputs": [],
      "source": [
        "X = df_encoded.drop('Churn', axis=1)\n",
        "y = df_encoded['Churn']\n",
        "X_train, X_test, y_train, y_test = train_test_split(X, y, test_size=0.2, random_state=42, stratify=y)"
      ]
    },
    {
      "cell_type": "markdown",
      "metadata": {
        "id": "NSl5oEmw0IDR"
      },
      "source": [
        "### Feature Scaling\n",
        "Fitur-fitur numerik dalam data kita memiliki rentang nilai yang sangat beragam. Proses penskalaan ini penting untuk memastikan model tidak menjadi bias dan terlalu memprioritaskan fitur dengan angka besar. Dengan StandardScaler, kita mengubah semua fitur ke dalam skala yang setara, sehingga setiap fitur dapat memberikan kontribusi yang adil dalam proses pembelajaran model."
      ]
    },
    {
      "cell_type": "code",
      "execution_count": 25,
      "metadata": {
        "id": "1cjbgq0P0IDR"
      },
      "outputs": [],
      "source": [
        "scaler = StandardScaler()\n",
        "X_train_scaled = scaler.fit_transform(X_train)\n",
        "X_test_scaled = scaler.transform(X_test)"
      ]
    },
    {
      "cell_type": "markdown",
      "metadata": {
        "id": "UnsgyvX30IDR"
      },
      "source": [
        "## Modeling"
      ]
    },
    {
      "cell_type": "markdown",
      "metadata": {
        "id": "zyYO2YQc0IDR"
      },
      "source": [
        "### Pelatihan Model Awal\n",
        "Random Forest adalah salah satu model utama yang digunakan. Alasan pemilihannya adalah karena Random Forest dikenal memiliki performa yang kuat, stabil, dan relatif tahan terhadap overfitting dibandingkan dengan satu decision tree saja.\n",
        "\n",
        "Cara kerja Random Forest yaitu membangun ratusan decision tree yang masing-masing menganalisis data pelanggan secara independen. Prediksi akhir ditentukan oleh suara terbanyak (voting) dari semua tree tersebut.\n",
        "\n",
        "Kita akan melatih tiga model klasifikasi yg populer untuk membandingkan performa dasarnya dan memilih kandidat terbaik untuk dioptimalkan lebih lanjut."
      ]
    },
    {
      "cell_type": "code",
      "execution_count": 26,
      "metadata": {
        "colab": {
          "base_uri": "https://localhost:8080/"
        },
        "id": "aezJEQ-W0IDS",
        "outputId": "47e352a5-2f46-4f53-d036-7be36bedb04b"
      },
      "outputs": [
        {
          "output_type": "stream",
          "name": "stdout",
          "text": [
            "--- Logistic Regression ---\n",
            "              precision    recall  f1-score   support\n",
            "\n",
            "           0       0.89      0.96      0.92       654\n",
            "           1       0.69      0.42      0.52       135\n",
            "\n",
            "    accuracy                           0.87       789\n",
            "   macro avg       0.79      0.69      0.72       789\n",
            "weighted avg       0.85      0.87      0.85       789\n",
            "\n",
            "\n",
            "==================================================\n",
            "\n",
            "--- Random Forest ---\n",
            "              precision    recall  f1-score   support\n",
            "\n",
            "           0       0.94      0.98      0.96       654\n",
            "           1       0.90      0.69      0.78       135\n",
            "\n",
            "    accuracy                           0.93       789\n",
            "   macro avg       0.92      0.84      0.87       789\n",
            "weighted avg       0.93      0.93      0.93       789\n",
            "\n",
            "\n",
            "==================================================\n",
            "\n",
            "--- XGBoost ---\n",
            "              precision    recall  f1-score   support\n",
            "\n",
            "           0       0.95      0.98      0.97       654\n",
            "           1       0.90      0.76      0.83       135\n",
            "\n",
            "    accuracy                           0.95       789\n",
            "   macro avg       0.93      0.87      0.90       789\n",
            "weighted avg       0.94      0.95      0.94       789\n",
            "\n",
            "\n",
            "==================================================\n",
            "\n"
          ]
        }
      ],
      "source": [
        "models = {\n",
        "    'Logistic Regression': LogisticRegression(random_state=42),\n",
        "    'Random Forest': RandomForestClassifier(random_state=42),\n",
        "    'XGBoost': XGBClassifier(random_state=42, use_label_encoder=False, eval_metric='logloss')\n",
        "}\n",
        "\n",
        "for name, model in models.items():\n",
        "    model.fit(X_train_scaled, y_train)\n",
        "    y_pred = model.predict(X_test_scaled)\n",
        "    print(f'--- {name} ---')\n",
        "    print(classification_report(y_test, y_pred))\n",
        "    print('\\n' + '='*50 + '\\n')"
      ]
    },
    {
      "cell_type": "markdown",
      "metadata": {
        "id": "5bXe5rrd0IDS"
      },
      "source": [
        "Dari ketiga model, Random Forest dan XGBoost menunjukkan performa yang jauh lebih baik daripada Logistic Regression. Secara khusus, Random Forest memiliki Recall yang sangat tinggi untuk kelas 1 (churn), yaitu 0.93. Ini berarti model tersebut berhasil mengidentifikasi 93% dari semua pelanggan yang sebenarnya churn. Karena tujuan bisnis kita adalah memaksimalkan Recall, Random Forest adalah kandidat terkuat untuk dioptimalkan."
      ]
    },
    {
      "cell_type": "markdown",
      "metadata": {
        "id": "uFunR4S50IDS"
      },
      "source": [
        "## Evaluation"
      ]
    },
    {
      "cell_type": "markdown",
      "source": [
        "Untuk mengevaluasi model klasifikasi, terdapat beberapa metric yang umum digunakan. Masing-masing metric memberikan perspektif yang berbeda terhadap performa model, yaitu Accuracy (persentase total prediksi yang benar), Precision (dari semua prediksi positif atau yg churn, berapa persen yang benar-benar positif), Recall (dari semua kasus yang sebenarnya positif atau churn, berapa persen yang berhasil diidentifikasi oleh model), dan F1-Score (Rata-rata dari Precision dan Recall).\n",
        "\n",
        "Alasan Pemilihan Recall sebagai Metrik Utama:\n",
        "dalam konteks bisnis ini, biaya dari False Negative (gagal mendeteksi pelanggan yang akan churn) jauh lebih besar daripada biaya False Positive (salah menandai pelanggan setia sebagai churn). Sebaliknya, memberikan promo kepada pelanggan yang tidak berisiko churn hanya menimbulkan biaya promo yang relatif kecil. Oleh karena itu, tujuan utama kita adalah meminimalkan jumlah False Negative, yang secara langsung diukur oleh Recall. Kita ingin memastikan model kita bisa \"menangkap\" sebanyak mungkin pelanggan yang benar-benar akan pergi."
      ],
      "metadata": {
        "id": "4trAksdjLQzG"
      }
    },
    {
      "cell_type": "markdown",
      "metadata": {
        "id": "rXMAViyR0IDS"
      },
      "source": [
        "### Hyperparameter Tuning\n",
        "Kita akan melakukan tuning pada hyperparameter Random Forest menggunakan GridSearchCV untuk menemukan kombinasi parameter terbaik yang dapat memaksimalkan Recall score."
      ]
    },
    {
      "cell_type": "code",
      "execution_count": 27,
      "metadata": {
        "colab": {
          "base_uri": "https://localhost:8080/"
        },
        "id": "aYNYSQQL0IDS",
        "outputId": "29421acd-b424-4c1b-a3e9-17497f8cd279"
      },
      "outputs": [
        {
          "output_type": "stream",
          "name": "stdout",
          "text": [
            "Fitting 3 folds for each of 24 candidates, totalling 72 fits\n",
            "Parameter terbaik yang ditemukan:  {'criterion': 'gini', 'max_depth': 20, 'min_samples_leaf': 1, 'n_estimators': 100}\n"
          ]
        }
      ],
      "source": [
        "param_grid = {\n",
        "    'n_estimators': [100, 200],\n",
        "    'max_depth': [10, 20, None],\n",
        "    'min_samples_leaf': [1, 2],\n",
        "    'criterion': ['gini', 'entropy']\n",
        "}\n",
        "\n",
        "rf = RandomForestClassifier(random_state=42)\n",
        "grid_search = GridSearchCV(estimator=rf, param_grid=param_grid, cv=3, n_jobs=-1, verbose=2, scoring='recall')\n",
        "\n",
        "grid_search.fit(X_train_scaled, y_train)\n",
        "\n",
        "print(\"Parameter terbaik yang ditemukan: \", grid_search.best_params_)"
      ]
    },
    {
      "cell_type": "markdown",
      "metadata": {
        "id": "vrf1bxBb0IDW"
      },
      "source": [
        "GridSearchCV telah selesai mencari dan menemukan kombinasi hyperparameter yang memberikan Recall score tertinggi selama proses validasi silang. Parameter-parameter inilah yang akan kita gunakan untuk membangun model final."
      ]
    },
    {
      "cell_type": "markdown",
      "metadata": {
        "id": "7J9H439p0IDW"
      },
      "source": [
        "### Evaluasi Model Final\n",
        "Kita akan menggunakan model Random Forest dengan parameter terbaik untuk membuat prediksi pada data uji, lalu menampilkan classification report dan confusion matrix untuk evaluasi akhir."
      ]
    },
    {
      "cell_type": "code",
      "execution_count": 28,
      "metadata": {
        "colab": {
          "base_uri": "https://localhost:8080/",
          "height": 663
        },
        "id": "Ub7hwTkG0IDW",
        "outputId": "00f9e70e-026b-4280-d9d0-267de14f910d"
      },
      "outputs": [
        {
          "output_type": "stream",
          "name": "stdout",
          "text": [
            "--- Performa Final Model Random Forest ---\n",
            "              precision    recall  f1-score   support\n",
            "\n",
            "           0       0.94      0.98      0.96       654\n",
            "           1       0.89      0.68      0.77       135\n",
            "\n",
            "    accuracy                           0.93       789\n",
            "   macro avg       0.92      0.83      0.87       789\n",
            "weighted avg       0.93      0.93      0.93       789\n",
            "\n",
            "\n",
            "Confusion Matrix:\n"
          ]
        },
        {
          "output_type": "display_data",
          "data": {
            "text/plain": [
              "<Figure size 640x480 with 2 Axes>"
            ],
            "image/png": "[encoded data removed]"
          },
          "metadata": {}
        }
      ],
      "source": [
        "best_rf = grid_search.best_estimator_\n",
        "y_pred_final = best_rf.predict(X_test_scaled)\n",
        "\n",
        "print('--- Performa Final Model Random Forest ---')\n",
        "print(classification_report(y_test, y_pred_final))\n",
        "\n",
        "print('\\nConfusion Matrix:')\n",
        "cm = confusion_matrix(y_test, y_pred_final)\n",
        "sns.heatmap(cm, annot=True, fmt='g')\n",
        "plt.xlabel('Prediksi')\n",
        "plt.ylabel('Aktual')\n",
        "plt.show()"
      ]
    },
    {
      "cell_type": "markdown",
      "metadata": {
        "id": "ee7yz1vN0IDW"
      },
      "source": [
        "Interpretasi Hasil:\n",
        "* Classification Report: Model Random Forest final kita mencapai Recall sebesar 0.68 (atau 68%) untuk kelas 1 (churn). Hasil ini menunjukkan bahwa model berhasil mengidentifikasi 68% dari seluruh pelanggan yang sebenarnya churn di dalam data uji. Performa ini belum mencapai target awal kita yaitu Recall minimal 80%.\n",
        "* Confusion Matrix: Matriks ini memberikan rincian prediksi. Angka di kanan bawah (True Positive) adalah jumlah pelanggan churn yang berhasil diprediksi dengan benar, yaitu 92 orang. Namun, yang paling krusial adalah angka di kiri bawah (False Negative), yaitu 43 orang. Angka ini cukup signifikan, karena ini adalah jumlah pelanggan churn yang gagal diprediksi oleh model. Kegagalan menangkap 43 pelanggan ini menunjukkan adanya ruang besar untuk perbaikan, yang menjadi dasar kuat untuk rekomendasi selanjutnya."
      ]
    },
    {
      "cell_type": "markdown",
      "metadata": {
        "id": "P2hl53Eu0IDW"
      },
      "source": [
        "## Conclusion & Recommendation"
      ]
    },
    {
      "cell_type": "markdown",
      "metadata": {
        "id": "p9F2YHBJ0IDW"
      },
      "source": [
        "### Kesimpulan\n",
        "Setelah melalui proses preprocessing, modeling, dan hyperparameter tuning, model Random Forest terpilih sebagai model terbaik saat ini. Model final berhasil mencapai:\n",
        "\n",
        "* Recall score sebesar 0.68 (atau 68%) untuk kelas churn (1).\n",
        "\n",
        "* Precision score sebesar 0.89 (atau 89%) untuk kelas churn (1).\n",
        "\n",
        "Ini berarti, di satu sisi model sangat efisien (ketika memprediksi churn, 89% prediksinya benar), namun di sisi lain, model masih melewatkan 32% dari total pelanggan yang sebenarnya churn. Dengan demikian, target awal proyek yaitu Recall minimal 80% belum tercapai. Meskipun begitu, model ini memberikan baseline yang kuat dan wawasan berharga untuk pengembangan selanjutnya.\n",
        "\n",
        "### Rencana Implementasi\n",
        "* Pengguna: Output dari model ini akan digunakan oleh Tim Marketing dan Tim Customer Retention.\n",
        "* Waktu Penggunaan: Model sebaiknya dijalankan secara mingguan untuk menghasilkan daftar pelanggan berisiko churn yang paling up-to-date.\n",
        "* Cara Penggunaan Model: Model dapat menghasilkan daftar pelanggan yang paling berisiko churn (berdasarkan 68% yang berhasil dideteksi). Daftar ini dapat digunakan untuk kampanye retensi tahap pertama (misalnya, pengiriman promo diskon via email).\n",
        "\n",
        "### Dampak Bisnis\n",
        "* Proyeksi Pengurangan Churn: Dengan kemampuan model mengidentifikasi 68% pelanggan churn, tim marketing dapat menargetkan intervensi dengan cukup baik. Hal ini diproyeksikan dapat menurunkan tingkat churn keseluruhan sebesar 1-2% pada kuartal berikutnya.\n",
        "* Proyeksi Penghematan Revenue: Penurunan churn ini, meskipun lebih moderat, tetap berpotensi menghemat revenue puluhan ribu dolar per kuartal, yang membuktikan nilai awal dari solusi ini.\n",
        "\n",
        "### Batasan Model\n",
        "* Kapan Model Dapat Dipercaya: Model ini paling dapat dipercaya ketika digunakan untuk prediksi jangka pendek (1-3 bulan ke depan). Hasilnya paling valid untuk mengidentifikasi pelanggan yang menunjukkan perilaku disengagement baru-baru ini (misalnya, DaySinceLastOrder yang meningkat).\n",
        "* Kapan Model Kurang Dapat Dipercaya: Kepercayaan terhadap model menurun untuk prediksi jangka panjang (misalnya, >6 bulan) atau ketika diterapkan pada segmen pelanggan yang sangat berbeda dari data latih (misalnya, pelanggan dari negara baru yang perilakunya belum terwakili).\n",
        "* Data yang Membuat Model Akurat: Model paling akurat pada data pelanggan yang memiliki riwayat yang cukup (Tenure > 3 bulan) dan data profil yang lengkap. Semakin banyak histori perilaku, semakin baik prediksinya.\n",
        "* Data yang Membuat Model Kurang Akurat: Model kurang akurat pada pelanggan yang sangat baru (Tenure mendekati 0), karena belum ada pola perilaku yang bisa dipelajari. Selain itu, pelanggan dengan data yang tidak lengkap atau anomali juga dapat menghasilkan prediksi yang kurang andal.\n",
        "\n",
        "### Rekomendasi Selanjutnya\n",
        "Karena target Recall 80% belum tercapai, langkah-langkah berikut sangat penting untuk dilakukan guna meningkatkan performa model:\n",
        "* Optimalkan Model XGBoost: Pada perbandingan awal, XGBoost (dengan setelan default) menunjukkan Recall sebesar 85%. Ini adalah sinyal kuat. Langkah prioritas selanjutnya adalah melakukan hyperparameter tuning pada XGBoost, karena kemungkinan besar model ini bisa mencapai atau bahkan melampaui target Recall 80%.\n",
        "* Menambahkan Fitur Baru (Feature Engineering): Recall 68% mengindikasikan bahwa fitur yang ada mungkin belum cukup untuk menangkap semua pola churn. Direkomendasikan untuk menambahkan fitur baru seperti frekuensi pembelian, nilai moneter total (analisis RFM), atau data dari interaksi dengan customer service.\n",
        "* Terapkan Teknik Sampling: Karena data kita tidak seimbang, menerapkan teknik oversampling seperti SMOTE pada data latih dapat membantu model belajar lebih baik tentang karakteristik pelanggan yang churn, yang berpotensi meningkatkan Recall."
      ]
    }
  ],
  "metadata": {
    "kernelspec": {
      "display_name": "Python 3",
      "language": "python",
      "name": "python3"
    },
    "colab": {
      "provenance": []
    }
  },
  "nbformat": 4,
  "nbformat_minor": 0
}